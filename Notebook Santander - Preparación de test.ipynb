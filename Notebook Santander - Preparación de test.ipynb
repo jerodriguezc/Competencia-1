{
 "cells": [
  {
   "cell_type": "markdown",
   "metadata": {},
   "source": [
    "# Competencia: Santander Customer Satisfaction\n",
    "\n",
    "Desde los cargos de atención al cliente, hasta en los cargos directivos la satisfacción del cliente es una de las principales métricas de éxito. Los clientes insatisfechos no se mantienen por mucho tiempo, y mas aún, los clientes insatisfechos no demuestran su insatisfacción sino hasta que ya han dejado la compañia.\n",
    "\n",
    "El Banco Santander le esta solciitando a la comunidad de Kaggle que le ayude a identificar a los clientes insatisfechos en una etapa temprana de la relación comercial. Hacerlo le permitirá a Santander tomar medidas preventivas para mejorar la satisfacción de sus clientes antes de que sea demasiado tarde.\n",
    "\n",
    "En esta competencia usted trabajrá con cientos de características anonimizadas para predecir si un cliente está o no satisfecho con su experiencia bancaria.\n",
    "\n",
    "## Grupo de trabajo\n",
    "\n",
    "- John Franklin Gonzalez Gamboa - 201725981\n",
    "- Jorge Eduardo Rodriguez Cardozo - 200711501\n",
    "- German Augusto Carvajal Murcia - 201313516"
   ]
  },
  {
   "cell_type": "markdown",
   "metadata": {},
   "source": [
    "**Nota: para proceder con este documento es pre-requisito haber ejecutado los notebooks** **`Notebook Santander - Limpieza de datos` y `Notebook Santander - Outlier` **  **. Adicionalmente, la ruta de la carpeta `Santander` debe mantenerse inalterada entre todos los documentos**"
   ]
  },
  {
   "cell_type": "code",
   "execution_count": 1,
   "metadata": {},
   "outputs": [],
   "source": [
    "import os\n",
    "os.chdir(os.getcwd()+'/Santander')"
   ]
  },
  {
   "cell_type": "markdown",
   "metadata": {},
   "source": [
    "## Carga de la información\n",
    "\n",
    "Se carga la base de datos resultado del proceso de detección de datos atípicos sobre la base de entrenamiento (Notebook `Notebook Santander - Outlier`) y la base de datos de predicción (`test`). Asimismo, se importa se importan las librerias básicas necesarias para realizar el estudio."
   ]
  },
  {
   "cell_type": "code",
   "execution_count": 2,
   "metadata": {},
   "outputs": [],
   "source": [
    "import pandas as pd\n",
    "import numpy as np\n",
    "Data_train = pd.read_csv('Data_train.csv')\n",
    "import zipfile\n",
    "Data_test = zipfile.ZipFile('../Santander/test.csv.zip', 'r').open('test.csv')\n",
    "Data_test = pd.io.parsers.read_table(Data_test, sep=',')\n",
    "Data_test = Data_test.loc[:,Data_test.columns!='ID']"
   ]
  },
  {
   "cell_type": "markdown",
   "metadata": {},
   "source": [
    "## Preprocesamiento\n",
    "\n",
    "Para iniciar, se debe recordar que durante el proceso de limpieza de datos de la base de entrenamiento se eliminaron multiples variables del conjunto inicial. En este orden de ideas, el primer paso corresponde a la selección de las caracteristicas adecuadas que corresponderán a las variables de entrada de los modelos calibrados. "
   ]
  },
  {
   "cell_type": "code",
   "execution_count": 3,
   "metadata": {
    "scrolled": true
   },
   "outputs": [
    {
     "name": "stderr",
     "output_type": "stream",
     "text": [
      "/Users/germancarvajal/anaconda3/lib/python3.6/site-packages/pandas/core/indexing.py:1472: FutureWarning: \n",
      "Passing list-likes to .loc or [] with any missing label will raise\n",
      "KeyError in the future, you can use .reindex() as an alternative.\n",
      "\n",
      "See the documentation here:\n",
      "https://pandas.pydata.org/pandas-docs/stable/indexing.html#deprecate-loc-reindex-listlike\n",
      "  return self._getitem_tuple(key)\n"
     ]
    }
   ],
   "source": [
    "Data_test = Data_test.loc[:,Data_train.columns]\n",
    "Data_test= Data_test.drop('TARGET', 1)"
   ]
  },
  {
   "cell_type": "markdown",
   "metadata": {},
   "source": [
    "Por otro lado, verificando la presencia de valores extremos dentro de la base de datos de predicción se identifican 2148 valores que no son consistentes con la naturaleza de las variables registradas para los clientes."
   ]
  },
  {
   "cell_type": "code",
   "execution_count": 4,
   "metadata": {},
   "outputs": [
    {
     "name": "stdout",
     "output_type": "stream",
     "text": [
      "Valores extremos \t Total de valores extremos\n",
      "-999999.0 \t\t 120\n",
      "9999999999.0 \t\t 1128\n"
     ]
    }
   ],
   "source": [
    "print(\"Valores extremos\",\"\\t\",\"Total de valores extremos\")\n",
    "print(Data_test.values.min(),\"\\t\\t\",Data_test.stack()[Data_test.stack().values==Data_test.values.min()].count())\n",
    "print(Data_test.values.max(),\"\\t\\t\",Data_test.stack()[Data_test.stack().values==Data_test.values.max()].count())"
   ]
  },
  {
   "cell_type": "markdown",
   "metadata": {},
   "source": [
    "Siguiendo el procedimiento de limpieza sobre la base de entrenamiento, se procede a reemplazar dichos valores extremos por valores perdidos."
   ]
  },
  {
   "cell_type": "code",
   "execution_count": 5,
   "metadata": {},
   "outputs": [],
   "source": [
    "Data_test=Data_test.replace(-999999.0,float('NaN'))\n",
    "Data_test=Data_test.replace(9999999999.0,float('NaN'))"
   ]
  },
  {
   "cell_type": "markdown",
   "metadata": {},
   "source": [
    "Una vez incluidos los valores perdidos dentro de la base de datos construida, a continuación, se presenta el resumen de los campos vacios que existen en la base de datos de predicción preprocesada. En total se identifican 17 variables que exhiben un comportamiento de campos vacios similar al de la base de entrenamiento: variables perdidas por pares y un numero elevado de faltantes en la caracteristica `var3`."
   ]
  },
  {
   "cell_type": "code",
   "execution_count": 6,
   "metadata": {
    "scrolled": false
   },
   "outputs": [
    {
     "data": {
      "text/html": [
       "<div>\n",
       "<style scoped>\n",
       "    .dataframe tbody tr th:only-of-type {\n",
       "        vertical-align: middle;\n",
       "    }\n",
       "\n",
       "    .dataframe tbody tr th {\n",
       "        vertical-align: top;\n",
       "    }\n",
       "\n",
       "    .dataframe thead th {\n",
       "        text-align: right;\n",
       "    }\n",
       "</style>\n",
       "<table border=\"1\" class=\"dataframe\">\n",
       "  <thead>\n",
       "    <tr style=\"text-align: right;\">\n",
       "      <th></th>\n",
       "      <th>0</th>\n",
       "    </tr>\n",
       "  </thead>\n",
       "  <tbody>\n",
       "    <tr>\n",
       "      <th>delta_imp_aport_var13_1y3</th>\n",
       "      <td>377</td>\n",
       "    </tr>\n",
       "    <tr>\n",
       "      <th>delta_num_aport_var13_1y3</th>\n",
       "      <td>377</td>\n",
       "    </tr>\n",
       "    <tr>\n",
       "      <th>var3</th>\n",
       "      <td>120</td>\n",
       "    </tr>\n",
       "    <tr>\n",
       "      <th>delta_num_compra_var44_1y3</th>\n",
       "      <td>78</td>\n",
       "    </tr>\n",
       "    <tr>\n",
       "      <th>delta_imp_compra_var44_1y3</th>\n",
       "      <td>78</td>\n",
       "    </tr>\n",
       "    <tr>\n",
       "      <th>delta_num_aport_var17_1y3</th>\n",
       "      <td>37</td>\n",
       "    </tr>\n",
       "    <tr>\n",
       "      <th>delta_imp_aport_var17_1y3</th>\n",
       "      <td>37</td>\n",
       "    </tr>\n",
       "    <tr>\n",
       "      <th>delta_num_venta_var44_1y3</th>\n",
       "      <td>31</td>\n",
       "    </tr>\n",
       "    <tr>\n",
       "      <th>delta_imp_venta_var44_1y3</th>\n",
       "      <td>31</td>\n",
       "    </tr>\n",
       "    <tr>\n",
       "      <th>delta_num_trasp_var33_in_1y3</th>\n",
       "      <td>12</td>\n",
       "    </tr>\n",
       "    <tr>\n",
       "      <th>delta_imp_trasp_var33_in_1y3</th>\n",
       "      <td>12</td>\n",
       "    </tr>\n",
       "    <tr>\n",
       "      <th>delta_num_reemb_var17_1y3</th>\n",
       "      <td>11</td>\n",
       "    </tr>\n",
       "    <tr>\n",
       "      <th>delta_imp_reemb_var17_1y3</th>\n",
       "      <td>11</td>\n",
       "    </tr>\n",
       "    <tr>\n",
       "      <th>delta_imp_aport_var33_1y3</th>\n",
       "      <td>10</td>\n",
       "    </tr>\n",
       "    <tr>\n",
       "      <th>delta_num_aport_var33_1y3</th>\n",
       "      <td>10</td>\n",
       "    </tr>\n",
       "    <tr>\n",
       "      <th>delta_num_trasp_var17_in_1y3</th>\n",
       "      <td>8</td>\n",
       "    </tr>\n",
       "    <tr>\n",
       "      <th>delta_imp_trasp_var17_in_1y3</th>\n",
       "      <td>8</td>\n",
       "    </tr>\n",
       "  </tbody>\n",
       "</table>\n",
       "</div>"
      ],
      "text/plain": [
       "                                0\n",
       "delta_imp_aport_var13_1y3     377\n",
       "delta_num_aport_var13_1y3     377\n",
       "var3                          120\n",
       "delta_num_compra_var44_1y3     78\n",
       "delta_imp_compra_var44_1y3     78\n",
       "delta_num_aport_var17_1y3      37\n",
       "delta_imp_aport_var17_1y3      37\n",
       "delta_num_venta_var44_1y3      31\n",
       "delta_imp_venta_var44_1y3      31\n",
       "delta_num_trasp_var33_in_1y3   12\n",
       "delta_imp_trasp_var33_in_1y3   12\n",
       "delta_num_reemb_var17_1y3      11\n",
       "delta_imp_reemb_var17_1y3      11\n",
       "delta_imp_aport_var33_1y3      10\n",
       "delta_num_aport_var33_1y3      10\n",
       "delta_num_trasp_var17_in_1y3    8\n",
       "delta_imp_trasp_var17_in_1y3    8"
      ]
     },
     "execution_count": 6,
     "metadata": {},
     "output_type": "execute_result"
    }
   ],
   "source": [
    "h=pd.DataFrame(Data_test.isnull().sum()).sort_values(0,ascending=False)\n",
    "h[h[0]>0]"
   ]
  },
  {
   "cell_type": "markdown",
   "metadata": {},
   "source": [
    "Continuando con los hallazgos del proceso de revisión de la base de datos de entrenamiento, se procederá a imputar los valores faltantes de 4 de las caracteristicas con campos vacios utilizando la información contenida en las demás variables de los clientes. Unicamente se imputan valores para las caracteristicas que siguen un aparente proceso de faltantes MAR **(Para mayor información revisar el notebook `Notebook Santander - Limpieza de datos`)**\n"
   ]
  },
  {
   "cell_type": "code",
   "execution_count": 7,
   "metadata": {},
   "outputs": [],
   "source": [
    "var_impute = ['imp_compra_var44_ult1','imp_venta_var44_ult1','num_compra_var44_ult1','num_venta_var44_ult1','delta_num_compra_var44_1y3','delta_imp_compra_var44_1y3','delta_num_venta_var44_1y3','delta_imp_venta_var44_1y3']"
   ]
  },
  {
   "cell_type": "code",
   "execution_count": 8,
   "metadata": {},
   "outputs": [
    {
     "name": "stderr",
     "output_type": "stream",
     "text": [
      "/Users/germancarvajal/anaconda3/lib/python3.6/site-packages/h5py/__init__.py:36: FutureWarning: Conversion of the second argument of issubdtype from `float` to `np.floating` is deprecated. In future, it will be treated as `np.float64 == np.dtype(float).type`.\n",
      "  from ._conv import register_converters as _register_converters\n",
      "Using TensorFlow backend.\n"
     ]
    }
   ],
   "source": [
    "to_impute=Data_test[var_impute]\n",
    "import fancyimpute\n",
    "imputed=pd.DataFrame(fancyimpute.MICE(verbose=False).complete(to_impute))\n",
    "imputed.columns=var_impute\n",
    "Data_test[var_impute]=imputed"
   ]
  },
  {
   "cell_type": "markdown",
   "metadata": {},
   "source": [
    "Una vez imputados los valores que siguen un proceso MAR, unicamente quedan 13 caracteristicas que siguen un proceso de campos vacios missing-completely-at-random para los cuales no se puede inferrir su valor a partir de las caracteristicas observables. Consecuentemente, se decide imputar dichos valores con la mediana de las caracteristicas de la base de datos de entrenamiento. Se prefiere la mediana por sobre la media por su mayor robustez frente a la presencia de valores extremos no corregidos durante la revisión de datos atípicos."
   ]
  },
  {
   "cell_type": "code",
   "execution_count": 9,
   "metadata": {},
   "outputs": [
    {
     "data": {
      "text/html": [
       "<div>\n",
       "<style scoped>\n",
       "    .dataframe tbody tr th:only-of-type {\n",
       "        vertical-align: middle;\n",
       "    }\n",
       "\n",
       "    .dataframe tbody tr th {\n",
       "        vertical-align: top;\n",
       "    }\n",
       "\n",
       "    .dataframe thead th {\n",
       "        text-align: right;\n",
       "    }\n",
       "</style>\n",
       "<table border=\"1\" class=\"dataframe\">\n",
       "  <thead>\n",
       "    <tr style=\"text-align: right;\">\n",
       "      <th></th>\n",
       "      <th>0</th>\n",
       "    </tr>\n",
       "  </thead>\n",
       "  <tbody>\n",
       "    <tr>\n",
       "      <th>delta_imp_aport_var13_1y3</th>\n",
       "      <td>377</td>\n",
       "    </tr>\n",
       "    <tr>\n",
       "      <th>delta_num_aport_var13_1y3</th>\n",
       "      <td>377</td>\n",
       "    </tr>\n",
       "    <tr>\n",
       "      <th>var3</th>\n",
       "      <td>120</td>\n",
       "    </tr>\n",
       "    <tr>\n",
       "      <th>delta_num_aport_var17_1y3</th>\n",
       "      <td>37</td>\n",
       "    </tr>\n",
       "    <tr>\n",
       "      <th>delta_imp_aport_var17_1y3</th>\n",
       "      <td>37</td>\n",
       "    </tr>\n",
       "    <tr>\n",
       "      <th>delta_num_trasp_var33_in_1y3</th>\n",
       "      <td>12</td>\n",
       "    </tr>\n",
       "    <tr>\n",
       "      <th>delta_imp_trasp_var33_in_1y3</th>\n",
       "      <td>12</td>\n",
       "    </tr>\n",
       "    <tr>\n",
       "      <th>delta_num_reemb_var17_1y3</th>\n",
       "      <td>11</td>\n",
       "    </tr>\n",
       "    <tr>\n",
       "      <th>delta_imp_reemb_var17_1y3</th>\n",
       "      <td>11</td>\n",
       "    </tr>\n",
       "    <tr>\n",
       "      <th>delta_num_aport_var33_1y3</th>\n",
       "      <td>10</td>\n",
       "    </tr>\n",
       "    <tr>\n",
       "      <th>delta_imp_aport_var33_1y3</th>\n",
       "      <td>10</td>\n",
       "    </tr>\n",
       "    <tr>\n",
       "      <th>delta_imp_trasp_var17_in_1y3</th>\n",
       "      <td>8</td>\n",
       "    </tr>\n",
       "    <tr>\n",
       "      <th>delta_num_trasp_var17_in_1y3</th>\n",
       "      <td>8</td>\n",
       "    </tr>\n",
       "  </tbody>\n",
       "</table>\n",
       "</div>"
      ],
      "text/plain": [
       "                                0\n",
       "delta_imp_aport_var13_1y3     377\n",
       "delta_num_aport_var13_1y3     377\n",
       "var3                          120\n",
       "delta_num_aport_var17_1y3      37\n",
       "delta_imp_aport_var17_1y3      37\n",
       "delta_num_trasp_var33_in_1y3   12\n",
       "delta_imp_trasp_var33_in_1y3   12\n",
       "delta_num_reemb_var17_1y3      11\n",
       "delta_imp_reemb_var17_1y3      11\n",
       "delta_num_aport_var33_1y3      10\n",
       "delta_imp_aport_var33_1y3      10\n",
       "delta_imp_trasp_var17_in_1y3    8\n",
       "delta_num_trasp_var17_in_1y3    8"
      ]
     },
     "execution_count": 9,
     "metadata": {},
     "output_type": "execute_result"
    }
   ],
   "source": [
    "h=pd.DataFrame(Data_test.isnull().sum()).sort_values(0,ascending=False)\n",
    "h[h[0]>0]"
   ]
  },
  {
   "cell_type": "code",
   "execution_count": 10,
   "metadata": {},
   "outputs": [],
   "source": [
    "for i in Data_test.columns:\n",
    "    Data_test[i]=Data_test[i].fillna(Data_train[i].median())"
   ]
  },
  {
   "cell_type": "markdown",
   "metadata": {},
   "source": [
    "Para terminar el preprocesamiento de la base de datos de predicción, se valida que no existan valores perdidos en la base de datos final y se exporta para ser utilizada en etapas posteriores del proyecto."
   ]
  },
  {
   "cell_type": "code",
   "execution_count": 11,
   "metadata": {},
   "outputs": [
    {
     "name": "stdout",
     "output_type": "stream",
     "text": [
      "Total de datos faltantes tras la eliminación:  0\n"
     ]
    }
   ],
   "source": [
    "print('Total de datos faltantes tras la eliminación: ',Data_train.isnull().sum().sum())"
   ]
  },
  {
   "cell_type": "code",
   "execution_count": 12,
   "metadata": {},
   "outputs": [],
   "source": [
    "Data_test.to_csv('Data_test.csv', index=False)"
   ]
  }
 ],
 "metadata": {
  "kernelspec": {
   "display_name": "Python 3",
   "language": "python",
   "name": "python3"
  },
  "language_info": {
   "codemirror_mode": {
    "name": "ipython",
    "version": 3
   },
   "file_extension": ".py",
   "mimetype": "text/x-python",
   "name": "python",
   "nbconvert_exporter": "python",
   "pygments_lexer": "ipython3",
   "version": "3.6.5"
  }
 },
 "nbformat": 4,
 "nbformat_minor": 2
}
